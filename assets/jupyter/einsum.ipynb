{
 "cells": [
  {
   "cell_type": "code",
   "execution_count": 1,
   "id": "5610ea9e-a4fc-4c11-8f4c-0e03411fbcbd",
   "metadata": {},
   "outputs": [],
   "source": [
    "import torch"
   ]
  },
  {
   "cell_type": "markdown",
   "id": "0d330f00-a18d-44bf-b2f9-5abaf866a5f7",
   "metadata": {},
   "source": [
    "#### Matrix multiplication"
   ]
  },
  {
   "cell_type": "code",
   "execution_count": 2,
   "id": "e90d91f4-0aff-4ee0-ba27-90064d29ff76",
   "metadata": {},
   "outputs": [
    {
     "name": "stdout",
     "output_type": "stream",
     "text": [
      "X= tensor([[ 0.1742,  0.8217,  0.8242],\n",
      "        [ 0.0720,  1.7807,  1.5268],\n",
      "        [ 0.5374,  0.6169, -0.7690],\n",
      "        [ 0.1421,  0.7180, -0.3730]]) \n",
      "Y= tensor([[ 0.1103, -0.9541],\n",
      "        [-0.1714,  0.6822],\n",
      "        [ 0.0751,  1.2649]])\n"
     ]
    }
   ],
   "source": [
    "X = torch.randn(4,3)\n",
    "Y = torch.randn(3,2)\n",
    "print(\"X=\", X, \"\\nY=\",Y)"
   ]
  },
  {
   "cell_type": "code",
   "execution_count": 3,
   "id": "1927aa26-3099-4b71-a608-8f1718d9f7f8",
   "metadata": {},
   "outputs": [
    {
     "name": "stdout",
     "output_type": "stream",
     "text": [
      "Z= tensor([[-0.0597,  1.4370],\n",
      "        [-0.1826,  3.0774],\n",
      "        [-0.1042, -1.0646],\n",
      "        [-0.1354, -0.1175]])\n"
     ]
    }
   ],
   "source": [
    "Z=torch.einsum('ij, jk -> ik', X, Y)\n",
    "print(\"Z=\", Z)"
   ]
  },
  {
   "cell_type": "markdown",
   "id": "9aa7ef22-76db-48e2-a23b-22e2558b804e",
   "metadata": {},
   "source": [
    "#### Gram matrix"
   ]
  },
  {
   "cell_type": "code",
   "execution_count": 4,
   "id": "2ca110e6-46c1-4e87-95ac-cc6864b8cc8a",
   "metadata": {},
   "outputs": [
    {
     "data": {
      "text/plain": [
       "torch.Size([16, 2, 2])"
      ]
     },
     "execution_count": 4,
     "metadata": {},
     "output_type": "execute_result"
    }
   ],
   "source": [
    "# Gram matrix computation\n",
    "# G=X'X\n",
    "batch_size=16\n",
    "X = torch.randn(batch_size, 4, 2) \n",
    "\n",
    "G = torch.einsum('bji, bjk -> bik', X, X) \n",
    "G_alt = torch.einsum('bij, bjk -> bik', X.permute([0,2,1]), X)\n",
    "\n",
    "G.shape"
   ]
  },
  {
   "cell_type": "code",
   "execution_count": 5,
   "id": "56b39e90-19a6-4c48-9457-b96b495694f8",
   "metadata": {},
   "outputs": [
    {
     "data": {
      "text/plain": [
       "tensor(0.)"
      ]
     },
     "execution_count": 5,
     "metadata": {},
     "output_type": "execute_result"
    }
   ],
   "source": [
    "torch.sum( (G-G_alt)**2 )"
   ]
  },
  {
   "cell_type": "markdown",
   "id": "eaaf5b46-6cda-48a7-9bf4-2a13a6d8b2a0",
   "metadata": {},
   "source": [
    "The innerproduct of the two columns of the $4\\times 2$ matrix $X_{3,:,:}$ is \n",
    "$$G_{3,0,1} = X_{3,:,0}^T X_{3,:,1}$$  "
   ]
  },
  {
   "cell_type": "code",
   "execution_count": 6,
   "id": "c542abb2-499a-48c7-95da-eae2f5245ef5",
   "metadata": {},
   "outputs": [
    {
     "name": "stdout",
     "output_type": "stream",
     "text": [
      "tensor(3.0322) \t tensor(3.0322)\n"
     ]
    }
   ],
   "source": [
    "print( torch.sum( X[3, :, 0]*X[3, :, 1] ), '\\t', G[3,0,1] )"
   ]
  }
 ],
 "metadata": {
  "kernelspec": {
   "display_name": "Python 3 (ipykernel)",
   "language": "python",
   "name": "python3"
  },
  "language_info": {
   "codemirror_mode": {
    "name": "ipython",
    "version": 3
   },
   "file_extension": ".py",
   "mimetype": "text/x-python",
   "name": "python",
   "nbconvert_exporter": "python",
   "pygments_lexer": "ipython3",
   "version": "3.12.7"
  }
 },
 "nbformat": 4,
 "nbformat_minor": 5
}
